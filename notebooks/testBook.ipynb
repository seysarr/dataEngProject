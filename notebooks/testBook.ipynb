{
 "cells": [
  {
   "cell_type": "code",
   "execution_count": 1,
   "id": "ec76b847",
   "metadata": {
    "execution": {
     "iopub.execute_input": "2025-01-14T07:48:53.801083Z",
     "iopub.status.busy": "2025-01-14T07:48:53.800215Z",
     "iopub.status.idle": "2025-01-14T07:48:54.651772Z",
     "shell.execute_reply": "2025-01-14T07:48:54.650565Z"
    },
    "jupyter": {
     "source_hidden": true
    },
    "papermill": {
     "duration": 0.864149,
     "end_time": "2025-01-14T07:48:54.654107",
     "exception": false,
     "start_time": "2025-01-14T07:48:53.789958",
     "status": "completed"
    },
    "tags": []
   },
   "outputs": [],
   "source": [
    "import pandas as pd\n",
    "import neo4j"
   ]
  }
 ],
 "metadata": {
  "kernelspec": {
   "display_name": "Python 3",
   "language": "python",
   "name": "python3"
  },
  "language_info": {
   "codemirror_mode": {
    "name": "ipython",
    "version": 3
   },
   "file_extension": ".py",
   "mimetype": "text/x-python",
   "name": "python",
   "nbconvert_exporter": "python",
   "pygments_lexer": "ipython3",
   "version": "3.11.5"
  },
  "papermill": {
   "default_parameters": {},
   "duration": 3.854166,
   "end_time": "2025-01-14T07:48:55.180642",
   "environment_variables": {},
   "exception": null,
   "input_path": "/opt/airflow/notebooks/testBook.ipynb",
   "output_path": "/opt/airflow/notebooks/testBook.ipynb",
   "parameters": {},
   "start_time": "2025-01-14T07:48:51.326476",
   "version": "2.6.0"
  }
 },
 "nbformat": 4,
 "nbformat_minor": 5
}